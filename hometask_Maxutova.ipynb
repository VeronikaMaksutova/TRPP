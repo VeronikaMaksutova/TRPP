{
 "cells": [
  {
   "cell_type": "markdown",
   "metadata": {},
   "source": [
    "Task 1"
   ]
  },
  {
   "cell_type": "code",
   "execution_count": null,
   "metadata": {},
   "outputs": [],
   "source": [
    "stroka = input().split(' ')\n",
    "for i in range(len(stroka)):\n",
    "    l = len(stroka[i])\n",
    "    print('{}-{}'.format(stroka[i],l),end = ' ')"
   ]
  },
  {
   "cell_type": "markdown",
   "metadata": {},
   "source": [
    "Task 2"
   ]
  },
  {
   "cell_type": "code",
   "execution_count": null,
   "metadata": {},
   "outputs": [],
   "source": [
    "str = input().split(' ')\n",
    "rts = []\n",
    "for elem in str:\n",
    "    rts.append(elem[::-1])\n",
    "print(' '.join(rts))"
   ]
  },
  {
   "cell_type": "markdown",
   "metadata": {},
   "source": [
    "Task 3"
   ]
  },
  {
   "cell_type": "code",
   "execution_count": null,
   "metadata": {},
   "outputs": [],
   "source": [
    "v1  = input().split(' ')\n",
    "v2  = input().split(' ')\n",
    "def vector_p(v1,v2):\n",
    "    v1 = list(map(int, v1))\n",
    "    v2 = list(map(int,v2))\n",
    "    return [v1[0]*v2[0],v1[1]*v2[1],v1[2]*v2[2]]\n",
    "vector_p(v1,v2)    "
   ]
  },
  {
   "cell_type": "markdown",
   "metadata": {},
   "source": [
    "Task 4"
   ]
  },
  {
   "cell_type": "code",
   "execution_count": null,
   "metadata": {},
   "outputs": [],
   "source": [
    "class Dinner:\n",
    "    "
   ]
  }
 ],
 "metadata": {
  "interpreter": {
   "hash": "8e081918c112345be8414287bd2e674af76988e462904adebc01af20bfcf8336"
  },
  "kernelspec": {
   "display_name": "Python 3.9.0 64-bit",
   "language": "python",
   "name": "python3"
  },
  "language_info": {
   "codemirror_mode": {
    "name": "ipython",
    "version": 3
   },
   "file_extension": ".py",
   "mimetype": "text/x-python",
   "name": "python",
   "nbconvert_exporter": "python",
   "pygments_lexer": "ipython3",
   "version": "3.9.0"
  },
  "orig_nbformat": 4
 },
 "nbformat": 4,
 "nbformat_minor": 2
}
